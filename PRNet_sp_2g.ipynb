{
 "cells": [
  {
   "cell_type": "code",
   "execution_count": null,
   "metadata": {
    "ExecuteTime": {
     "end_time": "2020-08-29T23:45:24.605257Z",
     "start_time": "2020-08-29T23:45:22.459918Z"
    }
   },
   "outputs": [],
   "source": [
    "import tensorflow as tf\n",
    "from sklearn.preprocessing import MinMaxScaler\n",
    "from sklearn import preprocessing"
   ]
  },
  {
   "cell_type": "code",
   "execution_count": null,
   "metadata": {
    "ExecuteTime": {
     "end_time": "2020-08-29T23:45:24.649507Z",
     "start_time": "2020-08-29T23:45:24.607131Z"
    }
   },
   "outputs": [],
   "source": [
    "from numpy import *\n",
    "import numpy as np\n",
    "import pandas as pd\n",
    "import math as Math\n",
    "import importlib\n",
    "import prnetlib \n",
    "importlib.reload(prnetlib)\n",
    "#import prnetlib"
   ]
  },
  {
   "cell_type": "code",
   "execution_count": null,
   "metadata": {
    "ExecuteTime": {
     "end_time": "2020-08-29T23:45:25.860985Z",
     "start_time": "2020-08-29T23:45:24.651187Z"
    }
   },
   "outputs": [],
   "source": [
    "df=pd.read_csv(\"siping_2g_mode.csv\")\n",
    "from sklearn.model_selection import train_test_split\n",
    "tr_feature_r, te_feature_r, tr_label_, te_label_ = train_test_split(df, df[['Longitude','Latitude']], test_size=0.2,random_state=50)\n",
    "tr_feature_r.to_csv(\"prnet_sp2g_tr.csv\", index=None)\n",
    "te_feature_r.to_csv(\"prnet_sp2g_te.csv\", index=None)\n",
    "eng_para = prnetlib.merge_2g_engpara('sp2')\n",
    "tr_feature_r, tr_label_ = prnetlib.make_rf_dataset(tr_feature_r, eng_para, 'sp2')\n",
    "te_feature_r, te_label_ = prnetlib.make_rf_dataset(te_feature_r, eng_para,'sp2')"
   ]
  },
  {
   "cell_type": "code",
   "execution_count": null,
   "metadata": {
    "ExecuteTime": {
     "end_time": "2020-08-29T23:45:25.918467Z",
     "start_time": "2020-08-29T23:45:25.862667Z"
    }
   },
   "outputs": [],
   "source": [
    "tr_s, te_s, n_s, _ = prnetlib.spare_label(tr_label_, te_label_)"
   ]
  },
  {
   "cell_type": "code",
   "execution_count": null,
   "metadata": {
    "ExecuteTime": {
     "end_time": "2020-08-29T23:45:26.251774Z",
     "start_time": "2020-08-29T23:45:25.919792Z"
    }
   },
   "outputs": [],
   "source": [
    "tr, te, y, ye = prnetlib.local_feature(tr_feature_r, te_feature_r, tr_s, te_s, n_s, 8)"
   ]
  },
  {
   "cell_type": "code",
   "execution_count": null,
   "metadata": {
    "ExecuteTime": {
     "end_time": "2020-08-30T00:15:42.815765Z",
     "start_time": "2020-08-29T23:45:26.254964Z"
    }
   },
   "outputs": [],
   "source": [
    "localtmp_tr, localtmp_te = prnetlib.localpred(n_s, 10, tr, y, te, _, 8)"
   ]
  },
  {
   "cell_type": "code",
   "execution_count": null,
   "metadata": {
    "ExecuteTime": {
     "end_time": "2020-08-30T00:15:42.914507Z",
     "start_time": "2020-08-30T00:15:42.818249Z"
    }
   },
   "outputs": [],
   "source": [
    "g_i_tr, g_i_te, tr_l, te_l, tr_scaler = prnetlib.global_feature(tr_feature_r, te_feature_r, tr_label_, te_label_, \n",
    "                                                                localtmp_tr, localtmp_te, 4, 'sp2', 9)"
   ]
  },
  {
   "cell_type": "code",
   "execution_count": null,
   "metadata": {
    "ExecuteTime": {
     "end_time": "2020-08-30T07:40:17.357235Z",
     "start_time": "2020-08-30T00:15:42.916948Z"
    }
   },
   "outputs": [],
   "source": [
    "te_pred, te_label = prnetlib.globalpred(4, g_i_tr,  g_i_te, tr_l, te_l, tr_scaler, 10, 9)"
   ]
  },
  {
   "cell_type": "code",
   "execution_count": null,
   "metadata": {
    "ExecuteTime": {
     "end_time": "2020-08-30T07:40:18.262859Z",
     "start_time": "2020-08-29T15:57:04.618Z"
    }
   },
   "outputs": [],
   "source": [
    "error_te = [prnetlib.distance(pt1, pt2) for pt1, pt2 in zip(te_pred, te_label)]\n",
    "\n",
    "error_te = sorted(error_te)\n",
    "print (\"测试error\",np.median(error_te), np.mean(error_te), error_te[int(len(error_te)*0.9)])\n"
   ]
  },
  {
   "cell_type": "code",
   "execution_count": null,
   "metadata": {},
   "outputs": [],
   "source": []
  }
 ],
 "metadata": {
  "anaconda-cloud": {},
  "kernelspec": {
   "display_name": "Python 3",
   "language": "python",
   "name": "python3"
  },
  "language_info": {
   "codemirror_mode": {
    "name": "ipython",
    "version": 3
   },
   "file_extension": ".py",
   "mimetype": "text/x-python",
   "name": "python",
   "nbconvert_exporter": "python",
   "pygments_lexer": "ipython3",
   "version": "3.7.4"
  }
 },
 "nbformat": 4,
 "nbformat_minor": 1
}
