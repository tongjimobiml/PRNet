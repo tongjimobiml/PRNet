{
 "cells": [
  {
   "cell_type": "code",
   "execution_count": null,
   "metadata": {
    "ExecuteTime": {
     "end_time": "2020-08-30T12:14:34.160275Z",
     "start_time": "2020-08-30T12:14:10.455209Z"
    }
   },
   "outputs": [],
   "source": [
    "import tensorflow as tf\n",
    "from sklearn.preprocessing import MinMaxScaler\n",
    "from sklearn import preprocessing"
   ]
  },
  {
   "cell_type": "code",
   "execution_count": null,
   "metadata": {
    "ExecuteTime": {
     "end_time": "2020-08-30T12:14:34.621563Z",
     "start_time": "2020-08-30T12:14:34.163822Z"
    }
   },
   "outputs": [],
   "source": [
    "from numpy import *\n",
    "import numpy as np\n",
    "import pandas as pd\n",
    "import math as Math\n",
    "import importlib\n",
    "import prnetlib \n",
    "importlib.reload(prnetlib)\n",
    "#import prnetlib"
   ]
  },
  {
   "cell_type": "code",
   "execution_count": null,
   "metadata": {
    "ExecuteTime": {
     "end_time": "2020-08-30T12:14:37.541920Z",
     "start_time": "2020-08-30T12:14:34.624330Z"
    }
   },
   "outputs": [],
   "source": [
    "df=pd.read_csv(\"jiading_2g_mode.csv\")\n",
    "from sklearn.model_selection import train_test_split\n",
    "tr_feature_r, te_feature_r, tr_label_, te_label_ = train_test_split(df, df[['Longitude','Latitude']], test_size=0.2,random_state=50)\n",
    "tr_feature_r.to_csv(\"prnet_jd2g_tr.csv\", index=None)\n",
    "te_feature_r.to_csv(\"prnet_jd2g_te.csv\", index=None)\n",
    "eng_para = prnetlib.merge_2g_engpara('jd2')\n",
    "tr_feature_r, tr_label_ = prnetlib.make_rf_dataset(tr_feature_r, eng_para,'jd2')\n",
    "te_feature_r, te_label_ = prnetlib.make_rf_dataset(te_feature_r, eng_para,'jd2' )"
   ]
  },
  {
   "cell_type": "code",
   "execution_count": null,
   "metadata": {
    "ExecuteTime": {
     "end_time": "2020-08-30T12:14:37.736862Z",
     "start_time": "2020-08-30T12:14:37.543811Z"
    }
   },
   "outputs": [],
   "source": [
    "tr_s, te_s, n_s, _ = prnetlib.spare_label(tr_label_, te_label_)"
   ]
  },
  {
   "cell_type": "code",
   "execution_count": null,
   "metadata": {
    "ExecuteTime": {
     "end_time": "2020-08-30T12:16:36.678230Z",
     "start_time": "2020-08-30T12:16:36.464354Z"
    }
   },
   "outputs": [],
   "source": [
    "tr, te, y, ye = prnetlib.local_feature(tr_feature_r, te_feature_r, tr_s, te_s, n_s, 8)"
   ]
  },
  {
   "cell_type": "code",
   "execution_count": null,
   "metadata": {
    "ExecuteTime": {
     "end_time": "2020-08-30T12:54:39.514269Z",
     "start_time": "2020-08-30T12:16:59.204161Z"
    }
   },
   "outputs": [],
   "source": [
    "localtmp_tr, localtmp_te = prnetlib.localpred(n_s, 30, tr, y, te, _, 8)\n"
   ]
  },
  {
   "cell_type": "code",
   "execution_count": null,
   "metadata": {
    "ExecuteTime": {
     "end_time": "2020-08-30T13:25:18.060110Z",
     "start_time": "2020-08-30T13:25:17.951373Z"
    }
   },
   "outputs": [],
   "source": [
    "g_i_tr, g_i_te, tr_l, te_l, tr_scaler = prnetlib.global_feature(tr_feature_r, te_feature_r, tr_label_, te_label_, localtmp_tr, localtmp_te, 4, 'jd2', 9)"
   ]
  },
  {
   "cell_type": "code",
   "execution_count": null,
   "metadata": {
    "ExecuteTime": {
     "end_time": "2020-08-30T14:41:12.244037Z",
     "start_time": "2020-08-30T13:25:29.246193Z"
    }
   },
   "outputs": [],
   "source": [
    "te_pred, te_label = prnetlib.globalpred(4, g_i_tr,  g_i_te, tr_l, te_l, tr_scaler, 30, 9)"
   ]
  },
  {
   "cell_type": "code",
   "execution_count": null,
   "metadata": {
    "ExecuteTime": {
     "end_time": "2020-08-30T07:40:13.032332Z",
     "start_time": "2020-08-29T15:58:32.470Z"
    }
   },
   "outputs": [],
   "source": [
    "error_te = [prnetlib.distance(pt1, pt2) for pt1, pt2 in zip(te_pred, te_label)]\n",
    "error_te = sorted(error_te)\n",
    "\n",
    "print (\"测试error\",np.median(error_te), np.mean(error_te), error_te[int(len(error_te)*0.9)])"
   ]
  },
  {
   "cell_type": "code",
   "execution_count": null,
   "metadata": {},
   "outputs": [],
   "source": []
  }
 ],
 "metadata": {
  "anaconda-cloud": {},
  "kernelspec": {
   "display_name": "Python 3",
   "language": "python",
   "name": "python3"
  },
  "language_info": {
   "codemirror_mode": {
    "name": "ipython",
    "version": 3
   },
   "file_extension": ".py",
   "mimetype": "text/x-python",
   "name": "python",
   "nbconvert_exporter": "python",
   "pygments_lexer": "ipython3",
   "version": "3.7.4"
  }
 },
 "nbformat": 4,
 "nbformat_minor": 1
}
