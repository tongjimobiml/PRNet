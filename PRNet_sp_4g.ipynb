{
 "cells": [
  {
   "cell_type": "code",
   "execution_count": null,
   "metadata": {
    "ExecuteTime": {
     "end_time": "2020-08-30T12:30:51.654175Z",
     "start_time": "2020-08-30T12:30:51.650863Z"
    }
   },
   "outputs": [],
   "source": [
    "import tensorflow as tf\n",
    "from sklearn.preprocessing import MinMaxScaler\n",
    "from sklearn import preprocessing"
   ]
  },
  {
   "cell_type": "code",
   "execution_count": null,
   "metadata": {
    "ExecuteTime": {
     "end_time": "2020-08-30T13:46:50.350124Z",
     "start_time": "2020-08-30T13:46:50.327332Z"
    }
   },
   "outputs": [],
   "source": [
    "from numpy import *\n",
    "import numpy as np\n",
    "import pandas as pd\n",
    "import math as Math\n",
    "import importlib\n",
    "import prnetlib \n",
    "importlib.reload(prnetlib)\n",
    "#import prnetlib"
   ]
  },
  {
   "cell_type": "code",
   "execution_count": null,
   "metadata": {
    "ExecuteTime": {
     "end_time": "2020-08-30T12:24:06.848680Z",
     "start_time": "2020-08-30T12:24:02.165824Z"
    }
   },
   "outputs": [],
   "source": [
    "df=pd.read_csv(\"siping_4g.csv\")\n",
    "from sklearn.model_selection import train_test_split\n",
    "tr_feature_r, te_feature_r, tr_label_, te_label_ = train_test_split(df, df[['Longitude','Latitude']], test_size=0.2,random_state=50)\n",
    "tr_feature_r.to_csv(\"prnet_sp4g_tr.csv\", index=None)\n",
    "te_feature_r.to_csv(\"prnet_sp4g_te.csv\", index=None)\n",
    "eng_para = prnetlib.merge_2g_engpara('sp4')\n",
    "tr_feature_r, tr_label_ = prnetlib.make_rf_dataset(tr_feature_r, eng_para, 'sp4')\n",
    "te_feature_r, te_label_ = prnetlib.make_rf_dataset(te_feature_r, eng_para,'sp4')"
   ]
  },
  {
   "cell_type": "code",
   "execution_count": null,
   "metadata": {
    "ExecuteTime": {
     "end_time": "2020-08-30T12:24:07.410557Z",
     "start_time": "2020-08-30T12:24:06.851204Z"
    }
   },
   "outputs": [],
   "source": [
    "tr_s, te_s, n_s, _ = prnetlib.spare_label(tr_label_, te_label_)"
   ]
  },
  {
   "cell_type": "code",
   "execution_count": null,
   "metadata": {
    "ExecuteTime": {
     "end_time": "2020-08-30T12:24:07.417500Z",
     "start_time": "2020-08-30T12:24:07.413051Z"
    }
   },
   "outputs": [],
   "source": [
    "tr_feature_r.columns"
   ]
  },
  {
   "cell_type": "code",
   "execution_count": null,
   "metadata": {
    "ExecuteTime": {
     "end_time": "2020-08-30T12:24:13.460370Z",
     "start_time": "2020-08-30T12:24:13.379728Z"
    }
   },
   "outputs": [],
   "source": [
    "tr, te, y, ye = prnetlib.local_feature(tr_feature_r, te_feature_r, tr_s, te_s, n_s, 9)"
   ]
  },
  {
   "cell_type": "code",
   "execution_count": null,
   "metadata": {
    "ExecuteTime": {
     "end_time": "2020-08-30T13:35:04.700917Z",
     "start_time": "2020-08-30T13:31:26.075078Z"
    }
   },
   "outputs": [],
   "source": [
    "localtmp_tr, localtmp_te = prnetlib.localpred(n_s, 10, tr, y, te, _, 9)"
   ]
  },
  {
   "cell_type": "code",
   "execution_count": null,
   "metadata": {
    "ExecuteTime": {
     "end_time": "2020-08-30T13:44:27.183640Z",
     "start_time": "2020-08-30T13:44:27.083058Z"
    }
   },
   "outputs": [],
   "source": [
    "g_i_tr, g_i_te, tr_l, te_l, tr_scaler = prnetlib.global_feature(tr_feature_r, te_feature_r, tr_label_, te_label_, localtmp_tr, localtmp_te, 4, 'jd4',10)"
   ]
  },
  {
   "cell_type": "code",
   "execution_count": null,
   "metadata": {
    "ExecuteTime": {
     "end_time": "2020-08-30T13:56:54.503786Z",
     "start_time": "2020-08-30T13:46:54.783494Z"
    }
   },
   "outputs": [],
   "source": [
    "te_pred, te_label = prnetlib.globalpred(4, g_i_tr,  g_i_te, tr_l, te_l, tr_scaler, 10, 10)"
   ]
  },
  {
   "cell_type": "code",
   "execution_count": null,
   "metadata": {
    "ExecuteTime": {
     "end_time": "2020-08-30T13:57:40.216924Z",
     "start_time": "2020-08-30T13:57:40.159229Z"
    }
   },
   "outputs": [],
   "source": [
    "error_te = [prnetlib.distance(pt1, pt2) for pt1, pt2 in zip(te_pred, te_label)]\n",
    "\n",
    "error_te = sorted(error_te)\n",
    "print (\"测试error\",np.median(error_te), np.mean(error_te), error_te[int(len(error_te)*0.9)])"
   ]
  },
  {
   "cell_type": "code",
   "execution_count": null,
   "metadata": {},
   "outputs": [],
   "source": []
  }
 ],
 "metadata": {
  "anaconda-cloud": {},
  "kernelspec": {
   "display_name": "Python 3",
   "language": "python",
   "name": "python3"
  },
  "language_info": {
   "codemirror_mode": {
    "name": "ipython",
    "version": 3
   },
   "file_extension": ".py",
   "mimetype": "text/x-python",
   "name": "python",
   "nbconvert_exporter": "python",
   "pygments_lexer": "ipython3",
   "version": "3.7.4"
  }
 },
 "nbformat": 4,
 "nbformat_minor": 1
}
