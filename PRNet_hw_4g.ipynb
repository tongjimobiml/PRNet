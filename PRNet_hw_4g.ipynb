{
 "cells": [
  {
   "cell_type": "code",
   "execution_count": null,
   "metadata": {
    "ExecuteTime": {
     "end_time": "2020-09-07T19:37:34.709364Z",
     "start_time": "2020-09-07T19:37:34.703141Z"
    }
   },
   "outputs": [],
   "source": [
    "import tensorflow as tf     \n",
    "from sklearn.preprocessing import MinMaxScaler\n",
    "from sklearn import preprocessing\n",
    "import matplotlib.pyplot as plt"
   ]
  },
  {
   "cell_type": "code",
   "execution_count": null,
   "metadata": {
    "ExecuteTime": {
     "end_time": "2020-09-07T19:55:27.111777Z",
     "start_time": "2020-09-07T19:55:27.089188Z"
    }
   },
   "outputs": [],
   "source": [
    "from numpy import *\n",
    "import numpy as np\n",
    "import pandas as pd\n",
    "import math as Math\n",
    "import importlib\n",
    "import prnetlib \n",
    "importlib.reload(prnetlib)\n",
    "#import prnetlib"
   ]
  },
  {
   "cell_type": "code",
   "execution_count": null,
   "metadata": {
    "ExecuteTime": {
     "end_time": "2020-09-07T19:49:31.035807Z",
     "start_time": "2020-09-07T19:49:31.032272Z"
    }
   },
   "outputs": [],
   "source": [
    "area_id = 0"
   ]
  },
  {
   "cell_type": "code",
   "execution_count": null,
   "metadata": {
    "ExecuteTime": {
     "end_time": "2020-09-07T19:49:31.646288Z",
     "start_time": "2020-09-07T19:49:31.640690Z"
    }
   },
   "outputs": [],
   "source": [
    "tr_p = prnetlib.tr_data[area_id]\n",
    "te_p = prnetlib.te_data[area_id]"
   ]
  },
  {
   "cell_type": "code",
   "execution_count": null,
   "metadata": {
    "ExecuteTime": {
     "end_time": "2020-09-07T19:49:36.713410Z",
     "start_time": "2020-09-07T19:49:36.448401Z"
    }
   },
   "outputs": [],
   "source": [
    "tr_feature_r = pd.read_csv(tr_p)\n",
    "te_feature_r = pd.read_csv(te_p)\n",
    "\n",
    "tr_label_ = tr_feature_r[['Longitude', 'Latitude']]\n",
    "te_label_ = te_feature_r[['Longitude', 'Latitude']]"
   ]
  },
  {
   "cell_type": "code",
   "execution_count": null,
   "metadata": {
    "ExecuteTime": {
     "end_time": "2020-09-07T19:49:37.815848Z",
     "start_time": "2020-09-07T19:49:37.801169Z"
    }
   },
   "outputs": [],
   "source": [
    "tr_feature_r = tr_feature_r.drop(['Longitude', 'Latitude'], axis=1)"
   ]
  },
  {
   "cell_type": "code",
   "execution_count": null,
   "metadata": {
    "ExecuteTime": {
     "end_time": "2020-09-07T19:49:38.288617Z",
     "start_time": "2020-09-07T19:49:38.280275Z"
    }
   },
   "outputs": [],
   "source": [
    "te_feature_r = te_feature_r.drop(['Longitude', 'Latitude'], axis=1)"
   ]
  },
  {
   "cell_type": "code",
   "execution_count": null,
   "metadata": {
    "ExecuteTime": {
     "end_time": "2020-09-07T19:37:40.307227Z",
     "start_time": "2020-09-07T19:37:40.303389Z"
    }
   },
   "outputs": [],
   "source": [
    "#做对比实验的时候，可以把删除基站的代码放在这里\n",
    "#删除基站之后的输入训练特征和测试特征依然要命名为tr_feature_r/te_feature_r"
   ]
  },
  {
   "cell_type": "code",
   "execution_count": null,
   "metadata": {
    "ExecuteTime": {
     "end_time": "2020-09-07T19:51:07.691927Z",
     "start_time": "2020-09-07T19:51:07.427053Z"
    }
   },
   "outputs": [],
   "source": [
    "tr_s, te_s, n_s, _ = prnetlib.spare_label(tr_label_, te_label_)"
   ]
  },
  {
   "cell_type": "code",
   "execution_count": null,
   "metadata": {
    "ExecuteTime": {
     "end_time": "2020-09-07T19:51:08.234278Z",
     "start_time": "2020-09-07T19:51:08.146322Z"
    }
   },
   "outputs": [],
   "source": [
    "tr, te, y, ye = prnetlib.local_feature(tr_feature_r, te_feature_r, tr_s, te_s, n_s, 13)"
   ]
  },
  {
   "cell_type": "code",
   "execution_count": null,
   "metadata": {
    "ExecuteTime": {
     "end_time": "2020-09-07T19:51:09.525962Z",
     "start_time": "2020-09-07T19:51:09.521106Z"
    }
   },
   "outputs": [],
   "source": [
    "local_pre_train = prnetlib.local_path[area_id]"
   ]
  },
  {
   "cell_type": "code",
   "execution_count": null,
   "metadata": {
    "ExecuteTime": {
     "end_time": "2020-09-07T19:51:11.110115Z",
     "start_time": "2020-09-07T19:51:11.105606Z"
    }
   },
   "outputs": [],
   "source": [
    "#做对比实验需要重新训练模型，调用prnetlib.localpred_hw()的方式为\n",
    "#localtmp_tr, localtmp_te = prnetlib.localpred_hw(n_s, 30, tr, y, te, _, 13)其中30是指300次迭代，可以设置成30-50之间"
   ]
  },
  {
   "cell_type": "code",
   "execution_count": null,
   "metadata": {
    "ExecuteTime": {
     "end_time": "2020-09-07T19:51:24.485455Z",
     "start_time": "2020-09-07T19:51:14.546816Z"
    }
   },
   "outputs": [],
   "source": [
    "localtmp_tr, localtmp_te = prnetlib.localpred_hw(n_s, 30, tr, y, te, _, 13, True, local_pre_train)"
   ]
  },
  {
   "cell_type": "code",
   "execution_count": null,
   "metadata": {
    "ExecuteTime": {
     "end_time": "2020-09-07T19:51:24.574426Z",
     "start_time": "2020-09-07T19:51:24.487114Z"
    }
   },
   "outputs": [],
   "source": [
    "g_i_tr, g_i_te, tr_l, te_l, tr_scaler = prnetlib.global_feature(tr_feature_r, te_feature_r, tr_label_, te_label_, \n",
    "                                                                localtmp_tr, localtmp_te, 16, 'hw', 14)"
   ]
  },
  {
   "cell_type": "code",
   "execution_count": null,
   "metadata": {
    "ExecuteTime": {
     "end_time": "2020-09-07T19:51:24.578822Z",
     "start_time": "2020-09-07T19:51:24.576324Z"
    }
   },
   "outputs": [],
   "source": [
    "global_pre_train = prnetlib.global_path[area_id]"
   ]
  },
  {
   "cell_type": "code",
   "execution_count": null,
   "metadata": {
    "ExecuteTime": {
     "end_time": "2020-09-07T19:51:24.645000Z",
     "start_time": "2020-09-07T19:51:24.580300Z"
    }
   },
   "outputs": [],
   "source": [
    "#做对比实验需要重新训练模型，调用prnetlib.globalpred_hw()的方式为\n",
    "#te_pred, te_label = prnetlib.globalpred_hw(16, g_i_tr,  g_i_te, tr_l, te_l, tr_scaler, 30, 14)其中30是指300次迭代，可以设置成30-50之间"
   ]
  },
  {
   "cell_type": "code",
   "execution_count": null,
   "metadata": {
    "ExecuteTime": {
     "end_time": "2020-09-07T19:57:56.054649Z",
     "start_time": "2020-09-07T19:56:28.686659Z"
    }
   },
   "outputs": [],
   "source": [
    "te_pred, te_label = prnetlib.globalpred_hw(16, g_i_tr,  g_i_te, tr_l, te_l, tr_scaler, 30, 14, True, global_pre_train)"
   ]
  },
  {
   "cell_type": "code",
   "execution_count": null,
   "metadata": {
    "ExecuteTime": {
     "end_time": "2020-09-07T19:57:56.078281Z",
     "start_time": "2020-09-07T19:57:56.056284Z"
    }
   },
   "outputs": [],
   "source": [
    "error_te = [prnetlib.distance(pt1, pt2) for pt1, pt2 in zip(te_pred, te_label)]\n",
    "error_te = sorted(error_te)\n",
    "\n",
    "print (\"测试error\",np.median(error_te), np.mean(error_te), error_te[int(len(error_te)*0.9)])"
   ]
  },
  {
   "cell_type": "code",
   "execution_count": null,
   "metadata": {},
   "outputs": [],
   "source": []
  }
 ],
 "metadata": {
  "anaconda-cloud": {},
  "kernelspec": {
   "display_name": "Python 3",
   "language": "python",
   "name": "python3"
  },
  "language_info": {
   "codemirror_mode": {
    "name": "ipython",
    "version": 3
   },
   "file_extension": ".py",
   "mimetype": "text/x-python",
   "name": "python",
   "nbconvert_exporter": "python",
   "pygments_lexer": "ipython3",
   "version": "3.7.4"
  }
 },
 "nbformat": 4,
 "nbformat_minor": 1
}
